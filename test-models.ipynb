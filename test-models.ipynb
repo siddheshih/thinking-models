{
 "cells": [
  {
   "cell_type": "code",
   "execution_count": 2,
   "metadata": {},
   "outputs": [],
   "source": [
    "# import sys\n",
    "# !{sys.executable} -m pip install matplotlib\n"
   ]
  },
  {
   "cell_type": "code",
   "execution_count": 4,
   "metadata": {},
   "outputs": [],
   "source": [
    "import torch\n",
    "import torch.nn as nn\n",
    "from transformers import AutoModelForCausalLM, AutoTokenizer, set_seed, LogitsProcessor, LogitsProcessorList\n",
    "from datasets import load_dataset\n",
    "from sklearn.metrics.pairwise import cosine_similarity\n",
    "from sklearn.decomposition import PCA\n",
    "import gc\n",
    "from scipy.stats import ttest_ind\n",
    "import numpy as np\n",
    "import re  # For parsing the solution steps\n",
    "from vllm import LLM, SamplingParams\n",
    "import matplotlib.pyplot as plt\n",
    "from random import seed, randint\n",
    "import os\n",
    "\n"
   ]
  },
  {
   "cell_type": "code",
   "execution_count": 2,
   "metadata": {},
   "outputs": [],
   "source": [
    "def load_and_preprocess_aime_dataset(model_name, split=\"train\"):\n",
    "    \"\"\"Loads and preprocesses the AIME dataset from Hugging Face.\n",
    "    \n",
    "    Args:\n",
    "        model_name: The name of the Hugging Face model (for tokenizer compatibility).\n",
    "        split: The dataset split to load (default is 'train').\n",
    "        \n",
    "    Returns:\n",
    "        A tuple (processed_data, tokenizer) where processed_data is a list of dictionaries.\n",
    "    \"\"\"\n",
    "    try:\n",
    "        # Load the AIME dataset\n",
    "        dataset = load_dataset(\"di-zhang-fdu/AIME_1983_2024\", split=split)\n",
    "        tokenizer = AutoTokenizer.from_pretrained(model_name)\n",
    "        \n",
    "        processed_data = []\n",
    "        for example in dataset:\n",
    "            # Extract fields using the correct keys from the dataset\n",
    "            question = example['Question']\n",
    "            answer = example['Answer']\n",
    "            year = example['Year']\n",
    "            problem_number = example['Problem Number']\n",
    "            problem_id = f\"{year}-{problem_number}\"\n",
    "            \n",
    "            # Clean LaTeX if needed\n",
    "            question = question.replace(\"\\\\$\", \"$\")\n",
    "            answer = answer.replace(\"\\\\$\", \"$\")\n",
    "            \n",
    "            # Format the input prompt including the directive for reasoning and final answer formatting.\n",
    "            input_prompt = (\n",
    "                f\"AIME Problem {problem_number} ({year}):\\n{question}\\n\\n\"\n",
    "                \"Solution:\\nPlease reason step by step, and put your final answer within \\\\boxed{}.\\n\"\n",
    "                \"<think>\\n\"\n",
    "                \"****\\n\"\n",
    "                \"*****\\n\"\n",
    "                \"</think>\\n\"\n",
    "            )\n",
    "            \n",
    "            # Tokenize the prompt\n",
    "            tokenized_input = tokenizer(input_prompt, return_tensors=\"pt\")\n",
    "            \n",
    "            processed_data.append({\n",
    "                'problem': question,\n",
    "                'solution': answer,\n",
    "                'year': year,\n",
    "                'problem_number': problem_number,\n",
    "                'problem_id': problem_id,\n",
    "                'input_prompt': input_prompt,\n",
    "                'tokenized_input': tokenized_input,\n",
    "            })\n",
    "        \n",
    "        print(f\"Successfully processed {len(processed_data)} AIME problems\")\n",
    "        return processed_data, tokenizer\n",
    "    \n",
    "    except Exception as e:\n",
    "        print(f\"Error loading AIME dataset: {str(e)}\")\n",
    "        return None, None\n",
    "\n",
    "\n",
    "# Example usage:\n",
    "# processed_data, tokenizer = load_and_preprocess_aime_dataset(\"gpt2\", split=\"train\")\n",
    "# Example usage:\n",
    "# processed_data, tokenizer = load_and_preprocess_aime_dataset(\"gpt2\", split=\"train\")"
   ]
  },
  {
   "cell_type": "code",
   "execution_count": 4,
   "metadata": {},
   "outputs": [],
   "source": [
    "def extract_boxed_answer(solution_text):\n",
    "    \"\"\"\n",
    "    Extracts the answer that appears inside \\boxed{} in LaTeX solutions.\n",
    "    \n",
    "    Args:\n",
    "        solution_text: The full solution text containing a boxed answer.\n",
    "        \n",
    "    Returns:\n",
    "        The extracted answer as a string, or None if no boxed answer is found.\n",
    "    \"\"\"\n",
    "    import re\n",
    "    \n",
    "    # Pattern to match content inside \\boxed{...}\n",
    "    pattern = r'\\\\boxed\\{([^{}]+)\\}'\n",
    "    \n",
    "    # Search for the pattern\n",
    "    match = re.search(pattern, solution_text)\n",
    "    \n",
    "    if match:\n",
    "        # Return the content inside the boxed environment\n",
    "        return match.group(1).strip()\n",
    "    else:\n",
    "        # Try alternative pattern for cases where there might be nested braces\n",
    "        alt_pattern = r'\\\\boxed\\{([^{}]*(?:\\{[^{}]*\\}[^{}]*)*)\\}'\n",
    "        alt_match = re.search(alt_pattern, solution_text)\n",
    "        \n",
    "        if alt_match:\n",
    "            return alt_match.group(1).strip()\n",
    "        \n",
    "        return None"
   ]
  },
  {
   "cell_type": "markdown",
   "metadata": {},
   "source": [
    "## Baseline"
   ]
  },
  {
   "cell_type": "code",
   "execution_count": 44,
   "metadata": {},
   "outputs": [
    {
     "name": "stdout",
     "output_type": "stream",
     "text": [
      "Successfully processed 933 AIME problems\n",
      "INFO 02-27 14:06:08 config.py:549] This model supports multiple tasks: {'score', 'generate', 'reward', 'embed', 'classify'}. Defaulting to 'generate'.\n",
      "INFO 02-27 14:06:08 llm_engine.py:234] Initializing a V0 LLM engine (v0.7.3) with config: model='deepseek-ai/DeepSeek-R1-Distill-Llama-8B', speculative_config=None, tokenizer='deepseek-ai/DeepSeek-R1-Distill-Llama-8B', skip_tokenizer_init=False, tokenizer_mode=auto, revision=None, override_neuron_config=None, tokenizer_revision=None, trust_remote_code=False, dtype=torch.bfloat16, max_seq_len=16048, download_dir=None, load_format=LoadFormat.AUTO, tensor_parallel_size=1, pipeline_parallel_size=1, disable_custom_all_reduce=False, quantization=None, enforce_eager=False, kv_cache_dtype=auto,  device_config=cuda, decoding_config=DecodingConfig(guided_decoding_backend='xgrammar'), observability_config=ObservabilityConfig(otlp_traces_endpoint=None, collect_model_forward_time=False, collect_model_execute_time=False), seed=0, served_model_name=deepseek-ai/DeepSeek-R1-Distill-Llama-8B, num_scheduler_steps=1, multi_step_stream_outputs=True, enable_prefix_caching=False, chunked_prefill_enabled=False, use_async_output_proc=True, disable_mm_preprocessor_cache=False, mm_processor_kwargs=None, pooler_config=None, compilation_config={\"splitting_ops\":[],\"compile_sizes\":[],\"cudagraph_capture_sizes\":[256,248,240,232,224,216,208,200,192,184,176,168,160,152,144,136,128,120,112,104,96,88,80,72,64,56,48,40,32,24,16,8,4,2,1],\"max_capture_size\":256}, use_cached_outputs=False, \n",
      "INFO 02-27 14:06:09 model_runner.py:1110] Starting to load model deepseek-ai/DeepSeek-R1-Distill-Llama-8B...\n",
      "INFO 02-27 14:06:09 weight_utils.py:254] Using model weights format ['*.safetensors']\n"
     ]
    },
    {
     "data": {
      "application/vnd.jupyter.widget-view+json": {
       "model_id": "b7fb1a5240744e10859365686588714e",
       "version_major": 2,
       "version_minor": 0
      },
      "text/plain": [
       "Loading safetensors checkpoint shards:   0% Completed | 0/2 [00:00<?, ?it/s]\n"
      ]
     },
     "metadata": {},
     "output_type": "display_data"
    },
    {
     "name": "stdout",
     "output_type": "stream",
     "text": [
      "INFO 02-27 14:06:12 model_runner.py:1115] Loading model weights took 14.9576 GB\n",
      "INFO 02-27 14:06:13 worker.py:267] Memory profiling takes 0.70 seconds\n",
      "INFO 02-27 14:06:13 worker.py:267] the current vLLM instance can use total_gpu_memory (79.19GiB) x gpu_memory_utilization (0.90) = 71.27GiB\n",
      "INFO 02-27 14:06:13 worker.py:267] model weights take 14.96GiB; non_torch_memory takes 0.00GiB; PyTorch activation peak memory takes 1.66GiB; the rest of the memory reserved for KV Cache is 54.66GiB.\n",
      "INFO 02-27 14:06:14 executor_base.py:111] # cuda blocks: 27984, # CPU blocks: 2048\n",
      "INFO 02-27 14:06:14 executor_base.py:116] Maximum concurrency for 16048 tokens per request: 27.90x\n",
      "INFO 02-27 14:06:14 model_runner.py:1434] Capturing cudagraphs for decoding. This may lead to unexpected consequences if the model is not static. To run the model in eager mode, set 'enforce_eager=True' or use '--enforce-eager' in the CLI. If out-of-memory error occurs during cudagraph capture, consider decreasing `gpu_memory_utilization` or switching to eager mode. You can also reduce the `max_num_seqs` as needed to decrease memory usage.\n"
     ]
    },
    {
     "name": "stderr",
     "output_type": "stream",
     "text": [
      "Capturing CUDA graph shapes: 100%|██████████| 35/35 [00:22<00:00,  1.56it/s]"
     ]
    },
    {
     "name": "stdout",
     "output_type": "stream",
     "text": [
      "INFO 02-27 14:06:36 model_runner.py:1562] Graph capturing finished in 22 secs, took 0.09 GiB\n",
      "INFO 02-27 14:06:36 llm_engine.py:436] init engine (profile, create kv cache, warmup model) took 23.91 seconds\n"
     ]
    },
    {
     "name": "stderr",
     "output_type": "stream",
     "text": [
      "\n",
      "Processed prompts: 100%|██████████| 50/50 [03:57<00:00,  4.75s/it, est. speed input: 26.35 toks/s, output: 1557.26 toks/s]\n"
     ]
    }
   ],
   "source": [
    "model_name = \"deepseek-ai/DeepSeek-R1-Distill-Llama-8B\"\n",
    "\n",
    "# Load and preprocess the AIME dataset\n",
    "processed_data, tokenizer = load_and_preprocess_aime_dataset(model_name, split=\"train\")\n",
    "if processed_data is None:\n",
    "    raise ValueError(\"Dataset loading failed.\")\n",
    "\n",
    "set_seed(42)  # For reproducibility\n",
    "\n",
    "# Initialize the vLLM model with a maximum model length\n",
    "model = LLM(model=model_name, max_model_len=16048)\n",
    "\n",
    "# Generation parameters\n",
    "temperature = 0.6\n",
    "top_p = 0.95\n",
    "max_new_tokens = 15000\n",
    "num_examples = 50\n",
    "\n",
    "# Collect input prompts for the batch\n",
    "batch_prompts = [example[\"input_prompt\"] for example in processed_data[:num_examples]]\n",
    "\n",
    "# Define sampling parameters for generation\n",
    "sampling_params = SamplingParams(\n",
    "    temperature=temperature,\n",
    "    top_p=top_p,\n",
    "    max_tokens=max_new_tokens\n",
    ")\n",
    "\n",
    "# Generate outputs for the entire batch using vLLM\n",
    "results = model.generate(batch_prompts, sampling_params)\n",
    "\n",
    "# correct_count = 0\n",
    "# total = 0\n",
    "\n",
    "# # Iterate over each example in the batch along with its result\n",
    "# for idx, (example, result) in enumerate(zip(processed_data[:num_examples], results)):\n",
    "#     generated_text = result.text  # Extract generated text for the example\n",
    "#     final_answer = extract_boxed_answer(generated_text)\n",
    "\n",
    "#     print(f\"\\n=== AIME Problem {example['problem_number']} ({example['year']}) ===\")\n",
    "#     print(\"Input Prompt:\")\n",
    "#     print(example[\"input_prompt\"])\n",
    "#     print(\"\\nGenerated Thinking Trace and Full Output:\")\n",
    "#     print(generated_text)\n",
    "#     if final_answer:\n",
    "#         print(\"\\nExtracted Final Answer:\")\n",
    "#         print(final_answer)\n",
    "#     else:\n",
    "#         print(\"\\nFinal answer could not be extracted (no \\\\boxed{{}} found).\")\n",
    "\n",
    "#     # Simple accuracy calculation (case-insensitive)\n",
    "#     ground_truth = example[\"solution\"].strip().lower()\n",
    "#     extracted = final_answer.strip().lower() if final_answer else \"\"\n",
    "#     if extracted == ground_truth:\n",
    "#         correct_count += 1\n",
    "#     total += 1\n",
    "\n",
    "# accuracy = (correct_count / total) * 100 if total > 0 else 0.0\n",
    "# print(f\"\\nAccuracy over {total} examples: {accuracy:.2f}%\")\n",
    "\n",
    "# # Cleanup: delete temporary objects and clear GPU memory\n",
    "# del batch_prompts, results, sampling_params\n",
    "# gc.collect()\n",
    "# torch.cuda.empty_cache()\n",
    "\n",
    "# # Final cleanup: delete the model and clear all remaining GPU memory\n",
    "# del model\n",
    "# gc.collect()\n",
    "# torch.cuda.empty_cache()"
   ]
  },
  {
   "cell_type": "code",
   "execution_count": 45,
   "metadata": {},
   "outputs": [
    {
     "name": "stdout",
     "output_type": "stream",
     "text": [
      "\n",
      "Accuracy over 50 examples: 78.00%\n",
      "Average thinking trace length: 11176.30 characters\n",
      "Average non-thinking text length: 10134.74 characters\n"
     ]
    }
   ],
   "source": [
    "# Define a function to calculate thinking trace length\n",
    "def extract_thinking_trace(generated_text):\n",
    "    \"\"\"\n",
    "    Extracts the thinking trace portion and calculates its length.\n",
    "    Thinking trace is everything from the start up to \"</think>\"\n",
    "    \n",
    "    Args:\n",
    "        generated_text: The full generated text\n",
    "        \n",
    "    Returns:\n",
    "        A tuple of (thinking_trace_length, non_thinking_length)\n",
    "    \"\"\"\n",
    "    think_end = generated_text.find(\"</think>\")\n",
    "    \n",
    "    if think_end != -1:\n",
    "        # Everything up to and including </think> is the thinking trace\n",
    "        thinking_trace_len = think_end + 8  # +8 to include \"</think>\"\n",
    "        \n",
    "        # Everything after </think> is non-thinking\n",
    "        non_thinking_text = generated_text[think_end + 8:]\n",
    "        non_thinking_len = len(non_thinking_text)\n",
    "        \n",
    "        return thinking_trace_len, non_thinking_len\n",
    "    else:\n",
    "        # No \"</think>\" tag found, all text is considered non-thinking\n",
    "        return 0, len(generated_text)\n",
    "\n",
    "# Initialize variables for tracking lengths\n",
    "thinking_trace_lengths = []\n",
    "non_thinking_lengths = []\n",
    "correct_count = 0\n",
    "total = 0\n",
    "\n",
    "for idx, (example, result) in enumerate(zip(processed_data[:num_examples], results)):\n",
    "    generated_text = result.outputs[0].text  # Extract generated text for the example\n",
    "    final_answer = extract_boxed_answer(generated_text)\n",
    "    \n",
    "    # Extract thinking trace and calculate lengths\n",
    "    think_len, non_think_len = extract_thinking_trace(generated_text)\n",
    "    thinking_trace_lengths.append(think_len)\n",
    "    non_thinking_lengths.append(non_think_len)\n",
    "\n",
    "    # print(f\"\\n=== AIME Problem {example['problem_number']} ({example['year']}) ===\")\n",
    "    # print(\"Input Prompt:\")\n",
    "    # print(example[\"input_prompt\"])\n",
    "    # print(\"\\nGenerated Thinking Trace and Full Output:\")\n",
    "    # print(generated_text)\n",
    "    # if final_answer:\n",
    "    #     print(\"\\nExtracted Final Answer:\")\n",
    "    #     print(final_answer)\n",
    "    # else:\n",
    "    #     print(\"\\nFinal answer could not be extracted (no \\\\boxed{{}} found).\")\n",
    "    \n",
    "    # print(f\"\\nThinking trace length: {think_len} characters\")\n",
    "    # print(f\"Non-thinking text length: {non_think_len} characters\")\n",
    "\n",
    "    # Simple accuracy calculation (case-insensitive)\n",
    "    ground_truth = example[\"solution\"].strip().lower()\n",
    "    extracted = final_answer.strip().lower() if final_answer else \"\"\n",
    "    if extracted == ground_truth:\n",
    "        correct_count += 1\n",
    "    total += 1\n",
    "\n",
    "# Calculate averages\n",
    "avg_thinking_trace_len = sum(thinking_trace_lengths) / len(thinking_trace_lengths) if thinking_trace_lengths else 0\n",
    "avg_non_thinking_len = sum(non_thinking_lengths) / len(non_thinking_lengths) if non_thinking_lengths else 0\n",
    "\n",
    "# Print statistics\n",
    "accuracy = (correct_count / total) * 100 if total > 0 else 0.0\n",
    "print(f\"\\nAccuracy over {total} examples: {accuracy:.2f}%\")\n",
    "print(f\"Average thinking trace length: {avg_thinking_trace_len:.2f} characters\")\n",
    "print(f\"Average non-thinking text length: {avg_non_thinking_len:.2f} characters\")"
   ]
  },
  {
   "cell_type": "code",
   "execution_count": 57,
   "metadata": {},
   "outputs": [
    {
     "name": "stdout",
     "output_type": "stream",
     "text": [
      "Previous model deleted and GPU cache cleared.\n"
     ]
    }
   ],
   "source": [
    "# ----- Clear previous model from GPU memory if it exists -----\n",
    "if 'model' in globals():\n",
    "    try:\n",
    "        del model\n",
    "        gc.collect()\n",
    "        torch.cuda.empty_cache()\n",
    "        print(\"Previous model deleted and GPU cache cleared.\")\n",
    "    except Exception as e:\n",
    "        print(\"Error clearing previous model:\", e)"
   ]
  },
  {
   "cell_type": "code",
   "execution_count": null,
   "metadata": {},
   "outputs": [],
   "source": []
  },
  {
   "cell_type": "markdown",
   "metadata": {},
   "source": [
    "## Adding some initial part of thinking trace"
   ]
  },
  {
   "cell_type": "code",
   "execution_count": 15,
   "metadata": {},
   "outputs": [
    {
     "name": "stdout",
     "output_type": "stream",
     "text": [
      "Successfully processed 933 AIME problems\n",
      "INFO 02-27 22:54:44 config.py:549] This model supports multiple tasks: {'classify', 'embed', 'generate', 'reward', 'score'}. Defaulting to 'generate'.\n",
      "INFO 02-27 22:54:44 llm_engine.py:234] Initializing a V0 LLM engine (v0.7.3) with config: model='deepseek-ai/DeepSeek-R1-Distill-Llama-8B', speculative_config=None, tokenizer='deepseek-ai/DeepSeek-R1-Distill-Llama-8B', skip_tokenizer_init=False, tokenizer_mode=auto, revision=None, override_neuron_config=None, tokenizer_revision=None, trust_remote_code=False, dtype=torch.bfloat16, max_seq_len=16048, download_dir=None, load_format=LoadFormat.AUTO, tensor_parallel_size=1, pipeline_parallel_size=1, disable_custom_all_reduce=False, quantization=None, enforce_eager=False, kv_cache_dtype=auto,  device_config=cuda, decoding_config=DecodingConfig(guided_decoding_backend='xgrammar'), observability_config=ObservabilityConfig(otlp_traces_endpoint=None, collect_model_forward_time=False, collect_model_execute_time=False), seed=0, served_model_name=deepseek-ai/DeepSeek-R1-Distill-Llama-8B, num_scheduler_steps=1, multi_step_stream_outputs=True, enable_prefix_caching=False, chunked_prefill_enabled=False, use_async_output_proc=True, disable_mm_preprocessor_cache=False, mm_processor_kwargs=None, pooler_config=None, compilation_config={\"splitting_ops\":[],\"compile_sizes\":[],\"cudagraph_capture_sizes\":[256,248,240,232,224,216,208,200,192,184,176,168,160,152,144,136,128,120,112,104,96,88,80,72,64,56,48,40,32,24,16,8,4,2,1],\"max_capture_size\":256}, use_cached_outputs=False, \n",
      "INFO 02-27 22:54:45 model_runner.py:1110] Starting to load model deepseek-ai/DeepSeek-R1-Distill-Llama-8B...\n",
      "INFO 02-27 22:54:45 weight_utils.py:254] Using model weights format ['*.safetensors']\n"
     ]
    },
    {
     "data": {
      "application/vnd.jupyter.widget-view+json": {
       "model_id": "876fb7a988ca4473aa0bc90eff5e1473",
       "version_major": 2,
       "version_minor": 0
      },
      "text/plain": [
       "Loading safetensors checkpoint shards:   0% Completed | 0/2 [00:00<?, ?it/s]\n"
      ]
     },
     "metadata": {},
     "output_type": "display_data"
    },
    {
     "name": "stdout",
     "output_type": "stream",
     "text": [
      "INFO 02-27 22:54:47 model_runner.py:1115] Loading model weights took 14.9576 GB\n",
      "INFO 02-27 22:54:48 worker.py:267] Memory profiling takes 0.63 seconds\n",
      "INFO 02-27 22:54:48 worker.py:267] the current vLLM instance can use total_gpu_memory (79.19GiB) x gpu_memory_utilization (0.90) = 71.27GiB\n",
      "INFO 02-27 22:54:48 worker.py:267] model weights take 14.96GiB; non_torch_memory takes 0.00GiB; PyTorch activation peak memory takes 1.66GiB; the rest of the memory reserved for KV Cache is 54.66GiB.\n",
      "INFO 02-27 22:54:48 executor_base.py:111] # cuda blocks: 27984, # CPU blocks: 2048\n",
      "INFO 02-27 22:54:48 executor_base.py:116] Maximum concurrency for 16048 tokens per request: 27.90x\n",
      "INFO 02-27 22:54:48 model_runner.py:1434] Capturing cudagraphs for decoding. This may lead to unexpected consequences if the model is not static. To run the model in eager mode, set 'enforce_eager=True' or use '--enforce-eager' in the CLI. If out-of-memory error occurs during cudagraph capture, consider decreasing `gpu_memory_utilization` or switching to eager mode. You can also reduce the `max_num_seqs` as needed to decrease memory usage.\n"
     ]
    },
    {
     "name": "stderr",
     "output_type": "stream",
     "text": [
      "Capturing CUDA graph shapes: 100%|██████████| 35/35 [00:17<00:00,  2.01it/s]"
     ]
    },
    {
     "name": "stdout",
     "output_type": "stream",
     "text": [
      "INFO 02-27 22:55:06 model_runner.py:1562] Graph capturing finished in 17 secs, took 0.09 GiB\n",
      "INFO 02-27 22:55:06 llm_engine.py:436] init engine (profile, create kv cache, warmup model) took 18.58 seconds\n"
     ]
    },
    {
     "name": "stderr",
     "output_type": "stream",
     "text": [
      "\n"
     ]
    },
    {
     "name": "stdout",
     "output_type": "stream",
     "text": [
      "Running Experiment 1: No Prompt Augmentation\n"
     ]
    },
    {
     "name": "stderr",
     "output_type": "stream",
     "text": [
      "Processed prompts: 100%|██████████| 60/60 [04:10<00:00,  4.18s/it, est. speed input: 28.44 toks/s, output: 1659.32 toks/s]\n"
     ]
    },
    {
     "name": "stdout",
     "output_type": "stream",
     "text": [
      "Accuracy (Experiment 1): 80.00%\n",
      "Average thinking trace length (Experiment 1): 18777.82 characters\n",
      "Average non-thinking text length (Experiment 1): 1181.38 characters\n",
      "\n",
      "Running Experiment 2: With Varying Prefix Augmentation\n"
     ]
    },
    {
     "name": "stderr",
     "output_type": "stream",
     "text": [
      "Processed prompts: 100%|██████████| 60/60 [04:13<00:00,  4.22s/it, est. speed input: 114.99 toks/s, output: 1631.27 toks/s]\n"
     ]
    },
    {
     "name": "stdout",
     "output_type": "stream",
     "text": [
      "Fraction: 0.1, Accuracy: 76.67%, Think Len: 18782.27, Non-Think Len: 1210.73\n"
     ]
    },
    {
     "name": "stderr",
     "output_type": "stream",
     "text": [
      "Processed prompts: 100%|██████████| 60/60 [04:23<00:00,  4.39s/it, est. speed input: 208.60 toks/s, output: 1457.65 toks/s]\n"
     ]
    },
    {
     "name": "stdout",
     "output_type": "stream",
     "text": [
      "Fraction: 0.2, Accuracy: 73.33%, Think Len: 17291.17, Non-Think Len: 1097.57\n"
     ]
    },
    {
     "name": "stderr",
     "output_type": "stream",
     "text": [
      "Processed prompts: 100%|██████████| 60/60 [04:45<00:00,  4.76s/it, est. speed input: 282.34 toks/s, output: 1381.11 toks/s]\n"
     ]
    },
    {
     "name": "stdout",
     "output_type": "stream",
     "text": [
      "Fraction: 0.3, Accuracy: 73.33%, Think Len: 17443.55, Non-Think Len: 1123.18\n"
     ]
    },
    {
     "name": "stderr",
     "output_type": "stream",
     "text": [
      "Processed prompts: 100%|██████████| 60/60 [04:21<00:00,  4.36s/it, est. speed input: 415.03 toks/s, output: 1267.98 toks/s]\n"
     ]
    },
    {
     "name": "stdout",
     "output_type": "stream",
     "text": [
      "Fraction: 0.4, Accuracy: 76.67%, Think Len: 14151.98, Non-Think Len: 1260.07\n"
     ]
    },
    {
     "name": "stderr",
     "output_type": "stream",
     "text": [
      "Processed prompts: 100%|██████████| 60/60 [04:29<00:00,  4.48s/it, est. speed input: 504.15 toks/s, output: 1183.19 toks/s]\n"
     ]
    },
    {
     "name": "stdout",
     "output_type": "stream",
     "text": [
      "Fraction: 0.5, Accuracy: 78.33%, Think Len: 13890.53, Non-Think Len: 1197.42\n"
     ]
    },
    {
     "name": "stderr",
     "output_type": "stream",
     "text": [
      "Processed prompts: 100%|██████████| 60/60 [04:27<00:00,  4.46s/it, est. speed input: 612.21 toks/s, output: 1090.59 toks/s]\n"
     ]
    },
    {
     "name": "stdout",
     "output_type": "stream",
     "text": [
      "Fraction: 0.6, Accuracy: 78.33%, Think Len: 12516.42, Non-Think Len: 1133.20\n"
     ]
    },
    {
     "name": "stderr",
     "output_type": "stream",
     "text": [
      "Processed prompts: 100%|██████████| 60/60 [04:34<00:00,  4.58s/it, est. speed input: 700.71 toks/s, output: 1043.76 toks/s]\n"
     ]
    },
    {
     "name": "stdout",
     "output_type": "stream",
     "text": [
      "Fraction: 0.7, Accuracy: 81.67%, Think Len: 12623.67, Non-Think Len: 1234.93\n"
     ]
    },
    {
     "name": "stderr",
     "output_type": "stream",
     "text": [
      "Processed prompts: 100%|██████████| 60/60 [04:15<00:00,  4.25s/it, est. speed input: 866.00 toks/s, output: 882.84 toks/s] \n"
     ]
    },
    {
     "name": "stdout",
     "output_type": "stream",
     "text": [
      "Fraction: 0.8, Accuracy: 78.33%, Think Len: 9384.22, Non-Think Len: 1188.22\n"
     ]
    },
    {
     "name": "stderr",
     "output_type": "stream",
     "text": [
      "Processed prompts: 100%|██████████| 60/60 [04:21<00:00,  4.36s/it, est. speed input: 953.32 toks/s, output: 916.21 toks/s] \n"
     ]
    },
    {
     "name": "stdout",
     "output_type": "stream",
     "text": [
      "Fraction: 0.9, Accuracy: 76.67%, Think Len: 10155.33, Non-Think Len: 1257.50\n"
     ]
    },
    {
     "data": {
      "image/png": "[encoded data removed]",
      "text/plain": [
       "<Figure size 1200x600 with 3 Axes>"
      ]
     },
     "metadata": {},
     "output_type": "display_data"
    },
    {
     "name": "stdout",
     "output_type": "stream",
     "text": [
      "Previous model deleted and GPU cache cleared.\n"
     ]
    }
   ],
   "source": [
    "def set_seed(seed_value):\n",
    "    \"\"\"Set seed for reproducibility.\"\"\"\n",
    "    seed(seed_value)\n",
    "\n",
    "\n",
    "def load_and_preprocess_aime_dataset(model_name, split=\"train\"):\n",
    "    \"\"\"Loads and preprocesses the AIME dataset.\"\"\"\n",
    "    try:\n",
    "        dataset = load_dataset(\"di-zhang-fdu/AIME_1983_2024\", split=split)\n",
    "        tokenizer = AutoTokenizer.from_pretrained(model_name)\n",
    "        processed_data = []\n",
    "        for example in dataset:\n",
    "            question = example['Question']\n",
    "            answer = example['Answer']\n",
    "            year = example['Year']\n",
    "            problem_number = example['Problem Number']\n",
    "            problem_id = f\"{year}-{problem_number}\"\n",
    "            question = question.replace(\"\\\\$\", \"$\")\n",
    "            answer = answer.replace(\"\\\\$\", \"$\")\n",
    "            input_prompt = (\n",
    "                f\"AIME Problem {problem_number} ({year}):\\n{question}\\n\\n\"\n",
    "                \"Solution:\\nPlease reason step by step, and put your final answer within \\\\boxed{}.\\n\"\n",
    "                \"<think>\\n\"\n",
    "            )\n",
    "            tokenized_input = tokenizer(input_prompt, return_tensors=\"pt\")\n",
    "            processed_data.append({\n",
    "                'problem': question,\n",
    "                'solution': answer,\n",
    "                'year': year,\n",
    "                'problem_number': problem_number,\n",
    "                'problem_id': problem_id,\n",
    "                'input_prompt': input_prompt,\n",
    "                'tokenized_input': tokenized_input,\n",
    "            })\n",
    "        print(f\"Successfully processed {len(processed_data)} AIME problems\")\n",
    "        return processed_data, tokenizer\n",
    "    except Exception as e:\n",
    "        print(f\"Error loading AIME dataset: {str(e)}\")\n",
    "        return None, None\n",
    "\n",
    "def extract_thinking_trace(generated_text):\n",
    "    \"\"\"Extracts the thinking trace.\"\"\"\n",
    "    think_end = generated_text.find(\"</think>\")\n",
    "    if think_end != -1:\n",
    "        thinking_trace = generated_text[:think_end + 8]\n",
    "        thinking_trace_len = think_end + 8\n",
    "        non_thinking_text = generated_text[think_end + 8:]\n",
    "        non_thinking_len = len(non_thinking_text)\n",
    "        return thinking_trace, thinking_trace_len, non_thinking_len\n",
    "    else:\n",
    "        return \"\", len(generated_text), 0\n",
    "\n",
    "\n",
    "def run_experiment_original(processed_data, model, tokenizer, num_examples, sampling_params):\n",
    "    \"\"\"Runs the original experiment (no augmentation).\"\"\"\n",
    "    batch_prompts = [example[\"input_prompt\"] for example in processed_data[:num_examples]]\n",
    "    results = model.generate(batch_prompts, sampling_params)\n",
    "    thinking_trace_lengths = []\n",
    "    non_thinking_lengths = []\n",
    "    correct_count = 0\n",
    "    total = 0\n",
    "    generated_thinking_traces = []\n",
    "\n",
    "    for idx, (example, result) in enumerate(zip(processed_data[:num_examples], results)):\n",
    "        generated_text = result.outputs[0].text\n",
    "        final_answer = extract_boxed_answer(generated_text)\n",
    "        think_trace, think_len, non_think_len = extract_thinking_trace(generated_text)\n",
    "        thinking_trace_lengths.append(think_len)\n",
    "        non_thinking_lengths.append(non_think_len)\n",
    "        generated_thinking_traces.append(think_trace)  # Store for later use\n",
    "        ground_truth = example[\"solution\"].strip().lower()\n",
    "        extracted = final_answer.strip().lower() if final_answer else \"\"\n",
    "        if extracted == ground_truth:\n",
    "            correct_count += 1\n",
    "        total += 1\n",
    "\n",
    "    avg_thinking_trace_len = sum(thinking_trace_lengths) / len(thinking_trace_lengths) if thinking_trace_lengths else 0\n",
    "    avg_non_thinking_len = sum(non_thinking_lengths) / len(non_thinking_lengths) if non_thinking_lengths else 0\n",
    "    accuracy = (correct_count / total) * 100 if total > 0 else 0.0\n",
    "\n",
    "    return results, accuracy, avg_thinking_trace_len, avg_non_thinking_len, generated_thinking_traces\n",
    "\n",
    "\n",
    "def run_experiment_prefix_injection(processed_data, model, tokenizer, num_examples, sampling_params, thinking_prompts, thinking_prompt_fraction):\n",
    "    \"\"\"Runs experiment with prefix injection.\"\"\"\n",
    "    batch_prompts = []\n",
    "    for i, example in enumerate(processed_data[:num_examples]):\n",
    "        prompt_to_inject = thinking_prompts[i]\n",
    "        inject_len = int(len(prompt_to_inject) * thinking_prompt_fraction)\n",
    "        injected_prompt = prompt_to_inject[:inject_len]  # Prefix injection\n",
    "\n",
    "        input_prompt = (\n",
    "            f\"AIME Problem {example['problem_number']} ({example['year']}):\\n{example['problem']}\\n\\n\"\n",
    "            f\"Solution:\\n<think>\\n{injected_prompt}\"\n",
    "        )\n",
    "        batch_prompts.append(input_prompt)\n",
    "\n",
    "    results = model.generate(batch_prompts, sampling_params)\n",
    "    thinking_trace_lengths = []\n",
    "    non_thinking_lengths = []\n",
    "    correct_count = 0\n",
    "    total = 0\n",
    "\n",
    "    for idx, (example, result) in enumerate(zip(processed_data[:num_examples], results)):\n",
    "        generated_text = result.outputs[0].text\n",
    "        final_answer = extract_boxed_answer(generated_text)\n",
    "        think_trace, think_len, non_think_len = extract_thinking_trace(generated_text)\n",
    "        thinking_trace_lengths.append(think_len)\n",
    "        non_thinking_lengths.append(non_think_len)\n",
    "        ground_truth = example[\"solution\"].strip().lower()\n",
    "        extracted = final_answer.strip().lower() if final_answer else \"\"\n",
    "        if extracted == ground_truth:\n",
    "            correct_count += 1\n",
    "        total += 1\n",
    "\n",
    "    avg_thinking_trace_len = sum(thinking_trace_lengths) / len(thinking_trace_lengths) if thinking_trace_lengths else 0\n",
    "    avg_non_thinking_len = sum(non_thinking_lengths) / len(non_thinking_lengths) if non_thinking_lengths else 0\n",
    "    accuracy = (correct_count / total) * 100 if total > 0 else 0.0\n",
    "\n",
    "    return results, accuracy, avg_thinking_trace_len, avg_non_thinking_len\n",
    "\n",
    "\n",
    "# --- Colab Setup and Execution ---\n",
    "\n",
    "model_name = \"deepseek-ai/DeepSeek-R1-Distill-Llama-8B\"\n",
    "processed_data, tokenizer = load_and_preprocess_aime_dataset(model_name, split=\"train\")\n",
    "if processed_data is None:\n",
    "    raise ValueError(\"Dataset loading failed.\")\n",
    "set_seed(42)\n",
    "model = LLM(model=model_name, max_model_len=16048)\n",
    "temperature = 0.6\n",
    "top_p = 0.95\n",
    "max_new_tokens = 15000\n",
    "num_examples = 60\n",
    "sampling_params = SamplingParams(temperature=temperature, top_p=top_p, max_tokens=max_new_tokens)\n",
    "\n",
    "print(\"Running Experiment 1: No Prompt Augmentation\")\n",
    "results_exp1, accuracy_exp1, avg_think_len_exp1, avg_non_think_len_exp1, thinking_prompts_exp1 = run_experiment_original(\n",
    "    processed_data, model, tokenizer, num_examples, sampling_params\n",
    ")\n",
    "print(f\"Accuracy (Experiment 1): {accuracy_exp1:.2f}%\")\n",
    "print(f\"Average thinking trace length (Experiment 1): {avg_think_len_exp1:.2f} characters\")\n",
    "print(f\"Average non-thinking text length (Experiment 1): {avg_non_think_len_exp1:.2f} characters\")\n",
    "\n",
    "\n",
    "# --- Experiment 2: Varying Prefix Fractions ---\n",
    "print(\"\\nRunning Experiment 2: With Varying Prefix Augmentation\")\n",
    "prompt_fractions = [0.1, 0.2, 0.3, 0.4, 0.5, 0.6, 0.7, 0.8, 0.9]\n",
    "accuracies_prefix = []\n",
    "avg_thinking_lengths_prefix = []\n",
    "avg_non_thinking_lengths_prefix = []\n",
    "\n",
    "for fraction in prompt_fractions:\n",
    "    results_exp2, accuracy_exp2, avg_think_len_exp2, avg_non_think_len_exp2 = run_experiment_prefix_injection(\n",
    "        processed_data, model, tokenizer, num_examples, sampling_params,\n",
    "        thinking_prompts_exp1, fraction\n",
    "    )\n",
    "    accuracies_prefix.append(accuracy_exp2)\n",
    "    avg_thinking_lengths_prefix.append(avg_think_len_exp2)\n",
    "    avg_non_thinking_lengths_prefix.append(avg_non_think_len_exp2)\n",
    "    print(f\"Fraction: {fraction}, Accuracy: {accuracy_exp2:.2f}%, Think Len: {avg_think_len_exp2:.2f}, Non-Think Len: {avg_non_think_len_exp2:.2f}\")\n",
    "\n",
    "\n",
    "# --- Plotting and Saving (Prefix Injection) ---\n",
    "plt.figure(figsize=(12, 6))\n",
    "\n",
    "plt.subplot(1, 3, 1)\n",
    "plt.plot(prompt_fractions, accuracies_prefix, marker='o')\n",
    "plt.xlabel('Prompt Fraction')\n",
    "plt.ylabel('Accuracy (%)')\n",
    "plt.title('Accuracy vs. Prefix Fraction')\n",
    "plt.grid(True)\n",
    "\n",
    "plt.subplot(1, 3, 2)\n",
    "plt.plot(prompt_fractions, avg_thinking_lengths_prefix, marker='o', color='r')\n",
    "plt.xlabel('Prompt Fraction')\n",
    "plt.ylabel('Average Thinking Length')\n",
    "plt.title('Thinking Length vs. Prefix Fraction')\n",
    "plt.grid(True)\n",
    "\n",
    "plt.subplot(1, 3, 3)\n",
    "plt.plot(prompt_fractions, avg_non_thinking_lengths_prefix, marker='o', color='g')\n",
    "plt.xlabel('Prompt Fraction')\n",
    "plt.ylabel('Average Non-Thinking Length')\n",
    "plt.title('Non-Thinking Length vs. Prefix Fraction')\n",
    "plt.grid(True)\n",
    "\n",
    "plt.tight_layout()\n",
    "\n",
    "output_dir_prefix = \"plot_results_prefix\"\n",
    "if not os.path.exists(output_dir_prefix):\n",
    "    os.makedirs(output_dir_prefix)\n",
    "\n",
    "plt.savefig(os.path.join(output_dir_prefix, \"combined_plots_prefix.png\"))\n",
    "\n",
    "plt.subplot(1, 3, 1); plt.savefig(os.path.join(output_dir_prefix, \"accuracy_plot_prefix.png\"))\n",
    "plt.subplot(1, 3, 2); plt.savefig(os.path.join(output_dir_prefix, \"thinking_length_plot_prefix.png\"))\n",
    "plt.subplot(1, 3, 3); plt.savefig(os.path.join(output_dir_prefix, \"non_thinking_length_plot_prefix.png\"))\n",
    "\n",
    "\n",
    "plt.show()\n",
    "\n",
    "try:\n",
    "    del model\n",
    "    del sampling_params\n",
    "    gc.collect()\n",
    "    torch.cuda.empty_cache()\n",
    "    print(\"Previous model deleted and GPU cache cleared.\")\n",
    "except Exception as e:\n",
    "    print(\"Error clearing previous model:\", e)\n",
    "\n"
   ]
  },
  {
   "cell_type": "code",
   "execution_count": null,
   "metadata": {},
   "outputs": [],
   "source": []
  },
  {
   "cell_type": "markdown",
   "metadata": {},
   "source": [
    "## Random insertions of thinking traces"
   ]
  },
  {
   "cell_type": "markdown",
   "metadata": {},
   "source": []
  },
  {
   "cell_type": "code",
   "execution_count": 12,
   "metadata": {},
   "outputs": [
    {
     "name": "stdout",
     "output_type": "stream",
     "text": [
      "Successfully processed 933 AIME problems\n",
      "INFO 02-27 21:07:17 config.py:549] This model supports multiple tasks: {'classify', 'embed', 'generate', 'reward', 'score'}. Defaulting to 'generate'.\n",
      "INFO 02-27 21:07:17 llm_engine.py:234] Initializing a V0 LLM engine (v0.7.3) with config: model='deepseek-ai/DeepSeek-R1-Distill-Llama-8B', speculative_config=None, tokenizer='deepseek-ai/DeepSeek-R1-Distill-Llama-8B', skip_tokenizer_init=False, tokenizer_mode=auto, revision=None, override_neuron_config=None, tokenizer_revision=None, trust_remote_code=False, dtype=torch.bfloat16, max_seq_len=16048, download_dir=None, load_format=LoadFormat.AUTO, tensor_parallel_size=1, pipeline_parallel_size=1, disable_custom_all_reduce=False, quantization=None, enforce_eager=False, kv_cache_dtype=auto,  device_config=cuda, decoding_config=DecodingConfig(guided_decoding_backend='xgrammar'), observability_config=ObservabilityConfig(otlp_traces_endpoint=None, collect_model_forward_time=False, collect_model_execute_time=False), seed=0, served_model_name=deepseek-ai/DeepSeek-R1-Distill-Llama-8B, num_scheduler_steps=1, multi_step_stream_outputs=True, enable_prefix_caching=False, chunked_prefill_enabled=False, use_async_output_proc=True, disable_mm_preprocessor_cache=False, mm_processor_kwargs=None, pooler_config=None, compilation_config={\"splitting_ops\":[],\"compile_sizes\":[],\"cudagraph_capture_sizes\":[256,248,240,232,224,216,208,200,192,184,176,168,160,152,144,136,128,120,112,104,96,88,80,72,64,56,48,40,32,24,16,8,4,2,1],\"max_capture_size\":256}, use_cached_outputs=False, \n",
      "INFO 02-27 21:07:18 model_runner.py:1110] Starting to load model deepseek-ai/DeepSeek-R1-Distill-Llama-8B...\n",
      "INFO 02-27 21:07:18 weight_utils.py:254] Using model weights format ['*.safetensors']\n"
     ]
    },
    {
     "data": {
      "application/vnd.jupyter.widget-view+json": {
       "model_id": "73cb0cdb44ac43408bbf1138e445cb11",
       "version_major": 2,
       "version_minor": 0
      },
      "text/plain": [
       "Loading safetensors checkpoint shards:   0% Completed | 0/2 [00:00<?, ?it/s]\n"
      ]
     },
     "metadata": {},
     "output_type": "display_data"
    },
    {
     "name": "stdout",
     "output_type": "stream",
     "text": [
      "INFO 02-27 21:07:21 model_runner.py:1115] Loading model weights took 14.9576 GB\n",
      "INFO 02-27 21:07:22 worker.py:267] Memory profiling takes 0.63 seconds\n",
      "INFO 02-27 21:07:22 worker.py:267] the current vLLM instance can use total_gpu_memory (79.19GiB) x gpu_memory_utilization (0.90) = 71.27GiB\n",
      "INFO 02-27 21:07:22 worker.py:267] model weights take 14.96GiB; non_torch_memory takes 0.00GiB; PyTorch activation peak memory takes 1.66GiB; the rest of the memory reserved for KV Cache is 54.66GiB.\n",
      "INFO 02-27 21:07:22 executor_base.py:111] # cuda blocks: 27984, # CPU blocks: 2048\n",
      "INFO 02-27 21:07:22 executor_base.py:116] Maximum concurrency for 16048 tokens per request: 27.90x\n",
      "INFO 02-27 21:07:22 model_runner.py:1434] Capturing cudagraphs for decoding. This may lead to unexpected consequences if the model is not static. To run the model in eager mode, set 'enforce_eager=True' or use '--enforce-eager' in the CLI. If out-of-memory error occurs during cudagraph capture, consider decreasing `gpu_memory_utilization` or switching to eager mode. You can also reduce the `max_num_seqs` as needed to decrease memory usage.\n"
     ]
    },
    {
     "name": "stderr",
     "output_type": "stream",
     "text": [
      "Capturing CUDA graph shapes: 100%|██████████| 35/35 [00:17<00:00,  2.03it/s]"
     ]
    },
    {
     "name": "stdout",
     "output_type": "stream",
     "text": [
      "INFO 02-27 21:07:39 model_runner.py:1562] Graph capturing finished in 17 secs, took 0.09 GiB\n",
      "INFO 02-27 21:07:40 llm_engine.py:436] init engine (profile, create kv cache, warmup model) took 18.39 seconds\n"
     ]
    },
    {
     "name": "stderr",
     "output_type": "stream",
     "text": [
      "\n"
     ]
    },
    {
     "name": "stdout",
     "output_type": "stream",
     "text": [
      "Running Experiment 1: No Prompt Augmentation\n"
     ]
    },
    {
     "name": "stderr",
     "output_type": "stream",
     "text": [
      "Processed prompts:   0%|          | 0/200 [00:00<?, ?it/s, est. speed input: 0.00 toks/s, output: 0.00 toks/s]"
     ]
    },
    {
     "name": "stderr",
     "output_type": "stream",
     "text": [
      "Processed prompts:   8%|▊         | 15/200 [01:14<05:58,  1.94s/it, est. speed input: 24.26 toks/s, output: 384.84 toks/s]"
     ]
    },
    {
     "name": "stdout",
     "output_type": "stream",
     "text": [
      "WARNING 02-27 21:08:55 scheduler.py:1754] Sequence group 199 is preempted by PreemptionMode.RECOMPUTE mode because there is not enough KV cache space. This can affect the end-to-end performance. Increase gpu_memory_utilization or tensor_parallel_size to provide more KV cache memory. total_num_cumulative_preemption=1\n"
     ]
    },
    {
     "name": "stderr",
     "output_type": "stream",
     "text": [
      "Processed prompts:  26%|██▋       | 53/200 [02:21<02:37,  1.07s/it, est. speed input: 37.81 toks/s, output: 1044.82 toks/s]"
     ]
    },
    {
     "name": "stdout",
     "output_type": "stream",
     "text": [
      "WARNING 02-27 21:10:05 scheduler.py:1754] Sequence group 151 is preempted by PreemptionMode.RECOMPUTE mode because there is not enough KV cache space. This can affect the end-to-end performance. Increase gpu_memory_utilization or tensor_parallel_size to provide more KV cache memory. total_num_cumulative_preemption=51\n"
     ]
    },
    {
     "name": "stderr",
     "output_type": "stream",
     "text": [
      "Processed prompts:  62%|██████▎   | 125/200 [06:22<04:06,  3.29s/it, est. speed input: 37.27 toks/s, output: 1674.61 toks/s]"
     ]
    },
    {
     "name": "stdout",
     "output_type": "stream",
     "text": [
      "WARNING 02-27 21:14:14 scheduler.py:1754] Sequence group 164 is preempted by PreemptionMode.RECOMPUTE mode because there is not enough KV cache space. This can affect the end-to-end performance. Increase gpu_memory_utilization or tensor_parallel_size to provide more KV cache memory. total_num_cumulative_preemption=101\n"
     ]
    },
    {
     "name": "stderr",
     "output_type": "stream",
     "text": [
      "Processed prompts: 100%|██████████| 200/200 [11:40<00:00,  3.50s/it, est. speed input: 34.18 toks/s, output: 2108.92 toks/s]\n"
     ]
    },
    {
     "name": "stdout",
     "output_type": "stream",
     "text": [
      "Accuracy (Experiment 1): 74.50%\n",
      "Average thinking trace length (Experiment 1): 20396.72 characters\n",
      "Average non-thinking text length (Experiment 1): 1244.03 characters\n",
      "\n",
      "Running Experiment 2: With Varying Prompt Augmentation\n"
     ]
    },
    {
     "name": "stderr",
     "output_type": "stream",
     "text": [
      "Processed prompts:  36%|███▌      | 71/200 [02:08<03:34,  1.66s/it, est. speed input: 250.36 toks/s, output: 1250.50 toks/s]"
     ]
    },
    {
     "name": "stdout",
     "output_type": "stream",
     "text": [
      "WARNING 02-27 21:21:30 scheduler.py:1754] Sequence group 368 is preempted by PreemptionMode.RECOMPUTE mode because there is not enough KV cache space. This can affect the end-to-end performance. Increase gpu_memory_utilization or tensor_parallel_size to provide more KV cache memory. total_num_cumulative_preemption=151\n"
     ]
    },
    {
     "name": "stderr",
     "output_type": "stream",
     "text": [
      "Processed prompts:  74%|███████▍  | 149/200 [06:01<03:03,  3.61s/it, est. speed input: 253.96 toks/s, output: 1737.05 toks/s]"
     ]
    },
    {
     "name": "stdout",
     "output_type": "stream",
     "text": [
      "WARNING 02-27 21:25:32 scheduler.py:1754] Sequence group 397 is preempted by PreemptionMode.RECOMPUTE mode because there is not enough KV cache space. This can affect the end-to-end performance. Increase gpu_memory_utilization or tensor_parallel_size to provide more KV cache memory. total_num_cumulative_preemption=201\n"
     ]
    },
    {
     "name": "stderr",
     "output_type": "stream",
     "text": [
      "Processed prompts: 100%|██████████| 200/200 [10:14<00:00,  3.07s/it, est. speed input: 192.08 toks/s, output: 2052.17 toks/s]\n"
     ]
    },
    {
     "name": "stdout",
     "output_type": "stream",
     "text": [
      "Fraction: 0.1, Accuracy: 72.00%, Think Len: 17457.03, Non-Think Len: 1068.52\n"
     ]
    },
    {
     "name": "stderr",
     "output_type": "stream",
     "text": [
      "Processed prompts:  47%|████▋     | 94/200 [02:20<00:54,  1.95it/s, est. speed input: 736.17 toks/s, output: 1491.38 toks/s]"
     ]
    },
    {
     "name": "stdout",
     "output_type": "stream",
     "text": [
      "WARNING 02-27 21:31:58 scheduler.py:1754] Sequence group 591 is preempted by PreemptionMode.RECOMPUTE mode because there is not enough KV cache space. This can affect the end-to-end performance. Increase gpu_memory_utilization or tensor_parallel_size to provide more KV cache memory. total_num_cumulative_preemption=251\n"
     ]
    },
    {
     "name": "stderr",
     "output_type": "stream",
     "text": [
      "Processed prompts: 100%|██████████| 200/200 [09:08<00:00,  2.74s/it, est. speed input: 393.58 toks/s, output: 2035.82 toks/s]\n"
     ]
    },
    {
     "name": "stdout",
     "output_type": "stream",
     "text": [
      "Fraction: 0.2, Accuracy: 71.50%, Think Len: 15338.76, Non-Think Len: 1042.70\n"
     ]
    },
    {
     "name": "stderr",
     "output_type": "stream",
     "text": [
      "Processed prompts:  12%|█▏        | 23/200 [00:59<04:37,  1.57s/it, est. speed input: 823.59 toks/s, output: 304.34 toks/s]"
     ]
    },
    {
     "name": "stdout",
     "output_type": "stream",
     "text": [
      "WARNING 02-27 21:39:45 scheduler.py:1754] Sequence group 781 is preempted by PreemptionMode.RECOMPUTE mode because there is not enough KV cache space. This can affect the end-to-end performance. Increase gpu_memory_utilization or tensor_parallel_size to provide more KV cache memory. total_num_cumulative_preemption=301\n"
     ]
    },
    {
     "name": "stderr",
     "output_type": "stream",
     "text": [
      "Processed prompts: 100%|██████████| 200/200 [07:49<00:00,  2.35s/it, est. speed input: 670.20 toks/s, output: 2047.66 toks/s] \n"
     ]
    },
    {
     "name": "stdout",
     "output_type": "stream",
     "text": [
      "Fraction: 0.3, Accuracy: 71.00%, Think Len: 12679.11, Non-Think Len: 1096.30\n"
     ]
    },
    {
     "name": "stderr",
     "output_type": "stream",
     "text": [
      "Processed prompts:  10%|▉         | 19/200 [00:43<04:20,  1.44s/it, est. speed input: 1427.79 toks/s, output: 207.20 toks/s]"
     ]
    },
    {
     "name": "stdout",
     "output_type": "stream",
     "text": [
      "WARNING 02-27 21:47:19 scheduler.py:1754] Sequence group 985 is preempted by PreemptionMode.RECOMPUTE mode because there is not enough KV cache space. This can affect the end-to-end performance. Increase gpu_memory_utilization or tensor_parallel_size to provide more KV cache memory. total_num_cumulative_preemption=351\n"
     ]
    },
    {
     "name": "stderr",
     "output_type": "stream",
     "text": [
      "Processed prompts: 100%|██████████| 200/200 [07:34<00:00,  2.27s/it, est. speed input: 909.71 toks/s, output: 1883.51 toks/s] \n"
     ]
    },
    {
     "name": "stdout",
     "output_type": "stream",
     "text": [
      "Fraction: 0.4, Accuracy: 71.00%, Think Len: 11309.17, Non-Think Len: 1004.42\n"
     ]
    },
    {
     "name": "stderr",
     "output_type": "stream",
     "text": [
      "Processed prompts:  15%|█▌        | 30/200 [00:54<04:39,  1.65s/it, est. speed input: 2132.88 toks/s, output: 338.78 toks/s]"
     ]
    },
    {
     "name": "stdout",
     "output_type": "stream",
     "text": [
      "WARNING 02-27 21:55:05 scheduler.py:1754] Sequence group 1167 is preempted by PreemptionMode.RECOMPUTE mode because there is not enough KV cache space. This can affect the end-to-end performance. Increase gpu_memory_utilization or tensor_parallel_size to provide more KV cache memory. total_num_cumulative_preemption=401\n"
     ]
    },
    {
     "name": "stderr",
     "output_type": "stream",
     "text": [
      "Processed prompts: 100%|██████████| 200/200 [07:39<00:00,  2.30s/it, est. speed input: 1109.21 toks/s, output: 1760.35 toks/s]\n"
     ]
    },
    {
     "name": "stdout",
     "output_type": "stream",
     "text": [
      "Fraction: 0.5, Accuracy: 75.00%, Think Len: 10465.16, Non-Think Len: 1125.33\n"
     ]
    },
    {
     "name": "stderr",
     "output_type": "stream",
     "text": [
      "Processed prompts: 100%|██████████| 200/200 [07:40<00:00,  2.30s/it, est. speed input: 1326.44 toks/s, output: 1653.20 toks/s]\n"
     ]
    },
    {
     "name": "stdout",
     "output_type": "stream",
     "text": [
      "Fraction: 0.6, Accuracy: 75.50%, Think Len: 9863.35, Non-Think Len: 1050.22\n"
     ]
    },
    {
     "name": "stderr",
     "output_type": "stream",
     "text": [
      "Processed prompts: 100%|██████████| 200/200 [06:44<00:00,  2.02s/it, est. speed input: 1752.01 toks/s, output: 1564.62 toks/s]\n"
     ]
    },
    {
     "name": "stdout",
     "output_type": "stream",
     "text": [
      "Fraction: 0.7, Accuracy: 74.50%, Think Len: 7902.85, Non-Think Len: 1103.30\n"
     ]
    },
    {
     "name": "stderr",
     "output_type": "stream",
     "text": [
      "Processed prompts: 100%|██████████| 200/200 [07:09<00:00,  2.15s/it, est. speed input: 1869.31 toks/s, output: 1470.86 toks/s]\n"
     ]
    },
    {
     "name": "stdout",
     "output_type": "stream",
     "text": [
      "Fraction: 0.8, Accuracy: 76.00%, Think Len: 8044.10, Non-Think Len: 1123.61\n"
     ]
    },
    {
     "name": "stderr",
     "output_type": "stream",
     "text": [
      "Processed prompts: 100%|██████████| 200/200 [06:40<00:00,  2.00s/it, est. speed input: 2242.55 toks/s, output: 1416.32 toks/s]\n"
     ]
    },
    {
     "name": "stdout",
     "output_type": "stream",
     "text": [
      "Fraction: 0.9, Accuracy: 75.50%, Think Len: 7174.97, Non-Think Len: 1089.68\n"
     ]
    },
    {
     "data": {
      "image/png": "[encoded data removed]",
      "text/plain": [
       "<Figure size 1200x600 with 3 Axes>"
      ]
     },
     "metadata": {},
     "output_type": "display_data"
    }
   ],
   "source": [
    "def extract_thinking_trace(generated_text):\n",
    "    \"\"\"Extracts the thinking trace.\"\"\"\n",
    "    think_end = generated_text.find(\"</think>\")\n",
    "    if think_end != -1:\n",
    "        thinking_trace = generated_text[:think_end + 8]\n",
    "        thinking_trace_len = think_end + 8\n",
    "        non_thinking_text = generated_text[think_end + 8:]\n",
    "        non_thinking_len = len(non_thinking_text)\n",
    "        return thinking_trace, thinking_trace_len, non_thinking_len\n",
    "    else:\n",
    "        return \"\", len(generated_text), 0\n",
    "\n",
    "def inject_random_segment(full_prompt, inject_len):\n",
    "    \"\"\"Injects a random segment.\"\"\"\n",
    "    if inject_len <= 0 or inject_len > len(full_prompt):\n",
    "        return \"\"\n",
    "    start_index = randint(0, len(full_prompt) - inject_len)\n",
    "    return full_prompt[start_index:start_index + inject_len]\n",
    "\n",
    "def run_experiment_original(processed_data, model, tokenizer, num_examples, sampling_params):\n",
    "    \"\"\"Runs the original experiment (no augmentation).\"\"\"\n",
    "    batch_prompts = [example[\"input_prompt\"] for example in processed_data[:num_examples]]\n",
    "    results = model.generate(batch_prompts, sampling_params)\n",
    "    thinking_trace_lengths = []\n",
    "    non_thinking_lengths = []\n",
    "    correct_count = 0\n",
    "    total = 0\n",
    "    generated_thinking_traces = []\n",
    "\n",
    "    for idx, (example, result) in enumerate(zip(processed_data[:num_examples], results)):\n",
    "        generated_text = result.outputs[0].text\n",
    "        final_answer = extract_boxed_answer(generated_text)\n",
    "        think_trace, think_len, non_think_len = extract_thinking_trace(generated_text)\n",
    "        thinking_trace_lengths.append(think_len)\n",
    "        non_thinking_lengths.append(non_think_len)\n",
    "        generated_thinking_traces.append(think_trace)\n",
    "        ground_truth = example[\"solution\"].strip().lower()\n",
    "        extracted = final_answer.strip().lower() if final_answer else \"\"\n",
    "        if extracted == ground_truth:\n",
    "            correct_count += 1\n",
    "        total += 1\n",
    "\n",
    "    avg_thinking_trace_len = sum(thinking_trace_lengths) / len(thinking_trace_lengths) if thinking_trace_lengths else 0\n",
    "    avg_non_thinking_len = sum(non_thinking_lengths) / len(non_thinking_lengths) if non_thinking_lengths else 0\n",
    "    accuracy = (correct_count / total) * 100 if total > 0 else 0.0\n",
    "\n",
    "    return results, accuracy, avg_thinking_trace_len, avg_non_thinking_len, generated_thinking_traces\n",
    "\n",
    "\n",
    "def run_experiment_random_injection(processed_data, model, tokenizer, num_examples, sampling_params, thinking_prompts, thinking_prompt_fraction):\n",
    "    \"\"\"Runs experiment with random injection.\"\"\"\n",
    "    batch_prompts = []\n",
    "    for i, example in enumerate(processed_data[:num_examples]):\n",
    "        prompt_to_inject = thinking_prompts[i]\n",
    "        inject_len = int(len(prompt_to_inject) * thinking_prompt_fraction)\n",
    "        injected_prompt = inject_random_segment(prompt_to_inject, inject_len)\n",
    "\n",
    "        input_prompt = (\n",
    "            f\"AIME Problem {example['problem_number']} ({example['year']}):\\n{example['problem']}\\n\\n\"\n",
    "            \"Solution:\\n<think>\\n\"\n",
    "            \"******\\n\"\n",
    "            f\"\\n{injected_prompt}\\n\"\n",
    "            \"******\\n\"\n",
    "            \"</think>\\n\"\n",
    "        )\n",
    "        batch_prompts.append(input_prompt)\n",
    "\n",
    "    results = model.generate(batch_prompts, sampling_params)\n",
    "    thinking_trace_lengths = []\n",
    "    non_thinking_lengths = []\n",
    "    correct_count = 0\n",
    "    total = 0\n",
    "\n",
    "    for idx, (example, result) in enumerate(zip(processed_data[:num_examples], results)):\n",
    "        generated_text = result.outputs[0].text\n",
    "        final_answer = extract_boxed_answer(generated_text)\n",
    "        think_trace, think_len, non_think_len = extract_thinking_trace(generated_text)\n",
    "        thinking_trace_lengths.append(think_len)\n",
    "        non_thinking_lengths.append(non_think_len)\n",
    "        ground_truth = example[\"solution\"].strip().lower()\n",
    "        extracted = final_answer.strip().lower() if final_answer else \"\"\n",
    "        if extracted == ground_truth:\n",
    "            correct_count += 1\n",
    "        total += 1\n",
    "\n",
    "    avg_thinking_trace_len = sum(thinking_trace_lengths) / len(thinking_trace_lengths) if thinking_trace_lengths else 0\n",
    "    avg_non_thinking_len = sum(non_thinking_lengths) / len(non_thinking_lengths) if non_thinking_lengths else 0\n",
    "    accuracy = (correct_count / total) * 100 if total > 0 else 0.0\n",
    "\n",
    "    return results, accuracy, avg_thinking_trace_len, avg_non_thinking_len\n",
    "\n",
    "\n",
    "\n",
    "\n",
    "model_name = \"deepseek-ai/DeepSeek-R1-Distill-Llama-8B\"\n",
    "processed_data, tokenizer = load_and_preprocess_aime_dataset(model_name, split=\"train\")\n",
    "if processed_data is None:\n",
    "    raise ValueError(\"Dataset loading failed.\")\n",
    "set_seed(42)\n",
    "model = LLM(model=model_name, max_model_len=16048)\n",
    "temperature = 0.6\n",
    "top_p = 0.95\n",
    "max_new_tokens = 15000\n",
    "num_examples = 200\n",
    "sampling_params = SamplingParams(temperature=temperature, top_p=top_p, max_tokens=max_new_tokens)\n",
    "\n",
    "print(\"Running Experiment 1: No Prompt Augmentation\")\n",
    "results_exp1, accuracy_exp1, avg_think_len_exp1, avg_non_think_len_exp1, thinking_prompts_exp1 = run_experiment_original(\n",
    "    processed_data, model, tokenizer, num_examples, sampling_params\n",
    ")\n",
    "print(f\"Accuracy (Experiment 1): {accuracy_exp1:.2f}%\")\n",
    "print(f\"Average thinking trace length (Experiment 1): {avg_think_len_exp1:.2f} characters\")\n",
    "print(f\"Average non-thinking text length (Experiment 1): {avg_non_think_len_exp1:.2f} characters\")\n",
    "\n",
    "\n",
    "# --- Experiment 2: Varying Prompt Fractions ---\n",
    "print(\"\\nRunning Experiment 2: With Varying Prompt Augmentation\")\n",
    "prompt_fractions = [0.1, 0.2, 0.3, 0.4, 0.5, 0.6, 0.7, 0.8, 0.9]\n",
    "accuracies = []\n",
    "avg_thinking_lengths = []\n",
    "avg_non_thinking_lengths = []\n",
    "\n",
    "for fraction in prompt_fractions:\n",
    "    results_exp2, accuracy_exp2, avg_think_len_exp2, avg_non_think_len_exp2 = run_experiment_random_injection(\n",
    "        processed_data, model, tokenizer, num_examples, sampling_params,\n",
    "        thinking_prompts_exp1, fraction\n",
    "    )\n",
    "    accuracies.append(accuracy_exp2)\n",
    "    avg_thinking_lengths.append(avg_think_len_exp2)\n",
    "    avg_non_thinking_lengths.append(avg_non_think_len_exp2)\n",
    "    print(f\"Fraction: {fraction}, Accuracy: {accuracy_exp2:.2f}%, Think Len: {avg_think_len_exp2:.2f}, Non-Think Len: {avg_non_think_len_exp2:.2f}\")\n",
    "\n",
    "# --- Plotting and Saving ---\n",
    "plt.figure(figsize=(12, 6))\n",
    "\n",
    "# Accuracy Plot\n",
    "plt.subplot(1, 3, 1)\n",
    "plt.plot(prompt_fractions, accuracies, marker='o')\n",
    "plt.xlabel('Prompt Fraction')\n",
    "plt.ylabel('Accuracy (%)')\n",
    "plt.title('Accuracy vs. Prompt Fraction')\n",
    "plt.grid(True)\n",
    "\n",
    "# Average Thinking Length Plot\n",
    "plt.subplot(1, 3, 2)\n",
    "plt.plot(prompt_fractions, avg_thinking_lengths, marker='o', color='r')\n",
    "plt.xlabel('Prompt Fraction')\n",
    "plt.ylabel('Average Thinking Length')\n",
    "plt.title('Thinking Length vs. Prompt Fraction')\n",
    "plt.grid(True)\n",
    "\n",
    "# Average Non-Thinking Length Plot\n",
    "plt.subplot(1, 3, 3)\n",
    "plt.plot(prompt_fractions, avg_non_thinking_lengths, marker='o', color='g')\n",
    "plt.xlabel('Prompt Fraction')\n",
    "plt.ylabel('Average Non-Thinking Length')\n",
    "plt.title('Non-Thinking Length vs. Prompt Fraction')\n",
    "plt.grid(True)\n",
    "\n",
    "plt.tight_layout()\n",
    "\n",
    "# Create a directory to save the plots if it doesn't exist\n",
    "output_dir = \"plot_results\"\n",
    "if not os.path.exists(output_dir):\n",
    "    os.makedirs(output_dir)\n",
    "\n",
    "# Save the entire figure\n",
    "plt.savefig(os.path.join(output_dir, \"combined_plots.png\"))\n",
    "\n",
    "# Save individual plots\n",
    "plt.subplot(1, 3, 1)  # Select the accuracy plot\n",
    "plt.savefig(os.path.join(output_dir, \"accuracy_plot.png\"))\n",
    "\n",
    "plt.subplot(1, 3, 2)  # Select the thinking length plot\n",
    "plt.savefig(os.path.join(output_dir, \"thinking_length_plot.png\"))\n",
    "\n",
    "plt.subplot(1, 3, 3)  # Select the non-thinking length plot\n",
    "plt.savefig(os.path.join(output_dir, \"non_thinking_length_plot.png\"))\n",
    "\n",
    "\n",
    "plt.show()  # Display the plots (optional, but good for Colab)\n"
   ]
  },
  {
   "cell_type": "code",
   "execution_count": 13,
   "metadata": {},
   "outputs": [
    {
     "name": "stdout",
     "output_type": "stream",
     "text": [
      "Previous model deleted and GPU cache cleared.\n"
     ]
    }
   ],
   "source": [
    "try:\n",
    "    del model\n",
    "    del sampling_params\n",
    "    gc.collect()\n",
    "    torch.cuda.empty_cache()\n",
    "    print(\"Previous model deleted and GPU cache cleared.\")\n",
    "except Exception as e:\n",
    "    print(\"Error clearing previous model:\", e)\n"
   ]
  },
  {
   "cell_type": "code",
   "execution_count": 14,
   "metadata": {},
   "outputs": [
    {
     "name": "stdout",
     "output_type": "stream",
     "text": [
      "Thu Feb 27 22:30:10 2025       \n",
      "+-----------------------------------------------------------------------------------------+\n",
      "| NVIDIA-SMI 570.86.15              Driver Version: 570.86.15      CUDA Version: 12.8     |\n",
      "|-----------------------------------------+------------------------+----------------------+\n",
      "| GPU  Name                 Persistence-M | Bus-Id          Disp.A | Volatile Uncorr. ECC |\n",
      "| Fan  Temp   Perf          Pwr:Usage/Cap |           Memory-Usage | GPU-Util  Compute M. |\n",
      "|                                         |                        |               MIG M. |\n",
      "|=========================================+========================+======================|\n",
      "|   0  NVIDIA H100 80GB HBM3          Off |   00000000:03:00.0 Off |                    0 |\n",
      "| N/A   44C    P0            138W /  700W |    1125MiB /  81559MiB |    100%      Default |\n",
      "|                                         |                        |             Disabled |\n",
      "+-----------------------------------------+------------------------+----------------------+\n",
      "                                                                                         \n",
      "+-----------------------------------------------------------------------------------------+\n",
      "| Processes:                                                                              |\n",
      "|  GPU   GI   CI              PID   Type   Process name                        GPU Memory |\n",
      "|        ID   ID                                                               Usage      |\n",
      "|=========================================================================================|\n",
      "|    0   N/A  N/A           85701      C   ...nking-models/think/bin/python       1106MiB |\n",
      "+-----------------------------------------------------------------------------------------+\n"
     ]
    },
    {
     "name": "stderr",
     "output_type": "stream",
     "text": [
      "huggingface/tokenizers: The current process just got forked, after parallelism has already been used. Disabling parallelism to avoid deadlocks...\n",
      "To disable this warning, you can either:\n",
      "\t- Avoid using `tokenizers` before the fork if possible\n",
      "\t- Explicitly set the environment variable TOKENIZERS_PARALLELISM=(true | false)\n"
     ]
    }
   ],
   "source": [
    "!nvidia-smi"
   ]
  }
 ],
 "metadata": {
  "kernelspec": {
   "display_name": "think",
   "language": "python",
   "name": "python3"
  },
  "language_info": {
   "codemirror_mode": {
    "name": "ipython",
    "version": 3
   },
   "file_extension": ".py",
   "mimetype": "text/x-python",
   "name": "python",
   "nbconvert_exporter": "python",
   "pygments_lexer": "ipython3",
   "version": "3.12.3"
  }
 },
 "nbformat": 4,
 "nbformat_minor": 2
}
